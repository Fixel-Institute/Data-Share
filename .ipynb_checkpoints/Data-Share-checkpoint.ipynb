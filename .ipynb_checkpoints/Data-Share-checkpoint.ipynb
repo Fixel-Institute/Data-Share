{
 "cells": [
  {
   "cell_type": "markdown",
   "id": "82d7a1d3-817c-49a3-8fff-ee7b4228cf11",
   "metadata": {},
   "source": [
    "---\n",
    "format: \n",
    "    revealjs:\n",
    "        title: Comparison of Substrate in Stimulation Response\n",
    "        subtitle: Use the side arrows on the page to navigate.\n",
    "        direction: horizontal\n",
    "        slide-level: 4\n",
    "        progress: true\n",
    "        transition: slide\n",
    "        background-transition: fade\n",
    "        slide-number: true\n",
    "        show-slide-number: all\n",
    "        controls: true\n",
    "        controls-layout: edges \n",
    "        controls-tutorial: true\n",
    "jupyter: python3\n",
    "code-fold: true\n",
    "center-title-slide: false\n",
    "---\n",
    "#### Poor Responder"
   ]
  },
  {
   "cell_type": "code",
   "execution_count": 6,
   "id": "42ae1e98-8c39-4958-9674-72226fe7c549",
   "metadata": {},
   "outputs": [
    {
     "data": {
      "text/html": [
       "\n",
       "        <iframe\n",
       "            width=\"100%\"\n",
       "            height=\"100%\"\n",
       "            src=\"https://visualization.jcagle.solutions/view/Data-Share/S0103_ACC_Poor_Responder.json?title=Poor+Responder\"\n",
       "            frameborder=\"0\"\n",
       "            allowfullscreen\n",
       "            \n",
       "        ></iframe>\n",
       "        "
      ],
      "text/plain": [
       "<IPython.lib.display.IFrame at 0x1b9d3346fd0>"
      ]
     },
     "execution_count": 6,
     "metadata": {},
     "output_type": "execute_result"
    }
   ],
   "source": [
    "from IPython.display import display, HTML, IFrame\n",
    "# IFrame(src, width, height, extras: Iterable[str] | None = None, **kwargs)\n",
    "IFrame(\"https://visualization.jcagle.solutions/view/Data-Share/S0103_ACC_Poor_Responder.json\", \"50%\", \"100%\", title=\"Poor Responder\")\n"
   ]
  },
  {
   "cell_type": "markdown",
   "id": "5845da26-ca1d-4a94-8ff8-b065457b9118",
   "metadata": {},
   "source": []
  },
  {
   "cell_type": "markdown",
   "id": "c5978242-8e55-4ad0-b6f7-45cd6cde4464",
   "metadata": {},
   "source": [
    "#### Good responder"
   ]
  },
  {
   "cell_type": "code",
   "execution_count": 7,
   "id": "a7de3a67-9c9b-48ef-b51b-7cbb4ff0c5c8",
   "metadata": {},
   "outputs": [
    {
     "data": {
      "text/html": [
       "\n",
       "<style>\n",
       ".cell-output-display {\n",
       "    height: 50vh;\n",
       "    width: 100vw;\n",
       "    overflow: hidden;\n",
       "    justify-content: center;\n",
       "    align-items: center;\n",
       "}   \n",
       "}\n",
       "</style>\n",
       "<iframe height=\"100%\" width=\"100%\" src=\"https://visualization.jcagle.solutions/view/Data-Share/S0301_ACC_Good_Responder.json\" title=\"Good Responder\"></iframe>\n"
      ],
      "text/plain": [
       "<IPython.core.display.HTML object>"
      ]
     },
     "metadata": {},
     "output_type": "display_data"
    }
   ],
   "source": [
    "from IPython.display import display, HTML\n",
    "\n",
    "html_content = r\"\"\"\n",
    "<style>\n",
    ".cell-output-display {\n",
    "    height: 50vh;\n",
    "    width: 100vw;\n",
    "    overflow: hidden;\n",
    "    justify-content: center;\n",
    "    align-items: center;\n",
    "}   \n",
    "}\n",
    "</style>\n",
    "<iframe height=\"100%\" width=\"100%\" src=\"https://visualization.jcagle.solutions/view/Data-Share/S0301_ACC_Good_Responder.json\" title=\"Good Responder\"></iframe>\n",
    "\"\"\"\n",
    "display(HTML(html_content))\n"
   ]
  },
  {
   "cell_type": "markdown",
   "id": "558582aa-8343-4758-93a9-3b1f11630f9f",
   "metadata": {},
   "source": []
  },
  {
   "cell_type": "markdown",
   "id": "66a03019-0b7d-4f73-9d67-8a0d26d7dc0c",
   "metadata": {},
   "source": [
    "#### Markdown HTML Poor Responder\n",
    "\n",
    "\n",
    "<style>\n",
    ".cell-output-display {\n",
    "    height: 100vh;\n",
    "    width: 100vw;\n",
    "    overflow: hidden;\n",
    "    justify-content: center;\n",
    "    align-items: center;\n",
    "}   \n",
    "}\n",
    "</style>\n",
    "<iframe height=\"100%\" width=\"100%\" src=\"https://visualization.jcagle.solutions/view/Data-Share/S0103_ACC_Poor_Responder.json\" title=\"Poor Responder\"></iframe>"
   ]
  },
  {
   "cell_type": "code",
   "execution_count": null,
   "id": "8131f000-a8c4-4858-9fc7-9559dd89e5ea",
   "metadata": {},
   "outputs": [],
   "source": []
  }
 ],
 "metadata": {
  "kernelspec": {
   "display_name": "Python 3 (ipykernel)",
   "language": "python",
   "name": "python3"
  },
  "language_info": {
   "codemirror_mode": {
    "name": "ipython",
    "version": 3
   },
   "file_extension": ".py",
   "mimetype": "text/x-python",
   "name": "python",
   "nbconvert_exporter": "python",
   "pygments_lexer": "ipython3",
   "version": "3.13.0"
  }
 },
 "nbformat": 4,
 "nbformat_minor": 5
}
