{
 "cells": [
  {
   "attachments": {},
   "cell_type": "markdown",
   "id": "7d27aa08-b86d-411f-99a3-fc77235e0b2b",
   "metadata": {},
   "source": [
    "---\n",
    "format: \n",
    "    revealjs:\n",
    "        title: Comparison of Substrate in Stimulation Response\n",
    "        subtitle: Use the side arrows on the page to navigate.\n",
    "        direction: horizontal\n",
    "        slide-level: 4\n",
    "        progress: true\n",
    "        transition: slide\n",
    "        background-transition: fade\n",
    "        slide-number: true\n",
    "        show-slide-number: all\n",
    "        controls: true\n",
    "        controls-layout: edges \n",
    "        controls-tutorial: true\n",
    "jupyter: python3\n",
    "code-fold: true\n",
    "center-title-slide: false\n",
    "---\n",
    "\n",
    "\n",
    "#### Poor Responder\n",
    "\n",
    "\n",
    "<style>\n",
    ".cell-output-display {\n",
    "    height: 100vh;\n",
    "    width: 100vw;\n",
    "    overflow: hidden;\n",
    "    justify-content: center;\n",
    "    align-items: center;\n",
    "}   \n",
    "}\n",
    "</style>\n",
    "<iframe height=\"100%\" width=\"100%\" src=\"https://visualization.jcagle.solutions/view/Data-Share/S0103_ACC_Poor_Responder.json\" title=\"Poor Responder\"></iframe>\n",
    "\n",
    "#### Good Responder\n",
    "\n",
    "<style>\n",
    ".cell-output-display {\n",
    "    height: 100vh;\n",
    "    width: 100vw;\n",
    "    overflow: hidden;\n",
    "    justify-content: center;\n",
    "    align-items: center;\n",
    "}   \n",
    "}\n",
    "</style>\n",
    "<iframe height=\"100%\" width=\"100%\" src=\"https://visualization.jcagle.solutions/view/Data-Share/S0301_ACC_Good_Responder.json\" title=\"Good Responder\"></iframe>"
   ]
  }
 ],
 "metadata": {
  "kernelspec": {
   "display_name": "Python 3 (ipykernel)",
   "language": "python",
   "name": "python3"
  },
  "language_info": {
   "codemirror_mode": {
    "name": "ipython",
    "version": 3
   },
   "file_extension": ".py",
   "mimetype": "text/x-python",
   "name": "python",
   "nbconvert_exporter": "python",
   "pygments_lexer": "ipython3",
   "version": "3.13.0"
  }
 },
 "nbformat": 4,
 "nbformat_minor": 5
}
